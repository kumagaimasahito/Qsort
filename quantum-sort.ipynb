{
  "nbformat": 4,
  "nbformat_minor": 0,
  "metadata": {
    "colab": {
      "name": "quantum-sort.ipynb",
      "provenance": [],
      "collapsed_sections": [],
      "authorship_tag": "ABX9TyP1TSSYQbnQiKu547ISADTJ",
      "include_colab_link": true
    },
    "kernelspec": {
      "name": "python3",
      "display_name": "Python 3"
    }
  },
  "cells": [
    {
      "cell_type": "markdown",
      "metadata": {
        "id": "view-in-github",
        "colab_type": "text"
      },
      "source": [
        "<a href=\"https://colab.research.google.com/github/kumagaimasahito/Qsort/blob/main/quantum-sort.ipynb\" target=\"_parent\"><img src=\"https://colab.research.google.com/assets/colab-badge.svg\" alt=\"Open In Colab\"/></a>"
      ]
    },
    {
      "cell_type": "markdown",
      "metadata": {
        "id": "7kXS-4oKsW_L"
      },
      "source": [
        "# What Qsort Do"
      ]
    },
    {
      "cell_type": "code",
      "metadata": {
        "colab": {
          "base_uri": "https://localhost:8080/"
        },
        "id": "iOA9uCGPnRzv",
        "outputId": "6e7f240e-a84f-45a2-ca46-14527da62836"
      },
      "source": [
        "# Qsortをインストール\n",
        "!pip install git+https://github.com/kumagaimasahito/Qsort.git"
      ],
      "execution_count": 1,
      "outputs": [
        {
          "output_type": "stream",
          "text": [
            "Collecting git+https://github.com/kumagaimasahito/Qsort.git\n",
            "  Cloning https://github.com/kumagaimasahito/Qsort.git to /tmp/pip-req-build-vl7bcgof\n",
            "  Running command git clone -q https://github.com/kumagaimasahito/Qsort.git /tmp/pip-req-build-vl7bcgof\n",
            "Collecting dwave-ocean-sdk\n",
            "  Downloading https://files.pythonhosted.org/packages/ef/6a/1eb9a56afce8da49eb5eb165f086d80f9c87c60d505176751ef83a05fd6a/dwave_ocean_sdk-3.1.1-py3-none-any.whl\n",
            "Collecting penaltymodel-cache==0.4.1\n",
            "  Downloading https://files.pythonhosted.org/packages/02/c5/3cb25828105a8b5e4b181cb94d23593f44cfca71c4e1247a6a631dca3dd2/penaltymodel_cache-0.4.1-py3-none-any.whl\n",
            "Collecting dwave-cloud-client==0.8.1\n",
            "\u001b[?25l  Downloading https://files.pythonhosted.org/packages/2e/39/1d11501f3cacffa868ba0a0991bdba82ee4a999e22e71f6fea046796fcfd/dwave_cloud_client-0.8.1-py3-none-any.whl (85kB)\n",
            "\u001b[K     |████████████████████████████████| 92kB 3.8MB/s \n",
            "\u001b[?25hCollecting dwave-neal==0.5.6\n",
            "\u001b[?25l  Downloading https://files.pythonhosted.org/packages/a3/c1/ab4bcd53e45829d52ddb118e944fcf552d78e98132208e80f7cf12453b11/dwave_neal-0.5.6-cp36-cp36m-manylinux1_x86_64.whl (393kB)\n",
            "\u001b[K     |████████████████████████████████| 399kB 18.1MB/s \n",
            "\u001b[?25hCollecting dwave-system==1.2.1\n",
            "\u001b[?25l  Downloading https://files.pythonhosted.org/packages/ab/aa/e27f5681fe955405562991843379be5021b8e248a15ee21be8d7fb4d709e/dwave_system-1.2.1-py3-none-any.whl (98kB)\n",
            "\u001b[K     |████████████████████████████████| 102kB 8.1MB/s \n",
            "\u001b[?25hCollecting pyqubo==0.4.0\n",
            "  Downloading https://files.pythonhosted.org/packages/28/57/ba41de3b13ba23e981463aa1daa2ebe6bd9dcddb15571e4c5905463326c7/pyqubo-0.4.0.tar.gz\n",
            "Collecting dwave-hybrid==0.6.0\n",
            "\u001b[?25l  Downloading https://files.pythonhosted.org/packages/ef/42/914cb7bb767303f0862dd50074b03c4c184ac513e2ee5bb437e4ce1e7f42/dwave_hybrid-0.6.0-py3-none-any.whl (93kB)\n",
            "\u001b[K     |████████████████████████████████| 102kB 9.5MB/s \n",
            "\u001b[?25hCollecting dwave-greedy==0.1.1\n",
            "\u001b[?25l  Downloading https://files.pythonhosted.org/packages/71/d3/20c6fbaae0f4db76f400e9863700e536718d0ac1eb027cfc516b5f385c99/dwave_greedy-0.1.1-cp36-cp36m-manylinux1_x86_64.whl (405kB)\n",
            "\u001b[K     |████████████████████████████████| 409kB 16.8MB/s \n",
            "\u001b[?25hCollecting minorminer==0.2.3\n",
            "\u001b[?25l  Downloading https://files.pythonhosted.org/packages/e6/87/848a099739a6ff630700e4c35c19d94c5f8ed1e4a1163bedb3aab7909d0f/minorminer-0.2.3-cp36-cp36m-manylinux1_x86_64.whl (3.3MB)\n",
            "\u001b[K     |████████████████████████████████| 3.3MB 26.1MB/s \n",
            "\u001b[?25hCollecting penaltymodel==0.16.3\n",
            "  Downloading https://files.pythonhosted.org/packages/e7/1d/d114fe1c401719964fbf404c2c25113edb994df9f93c5773c19da406d192/penaltymodel-0.16.3-py3-none-any.whl\n",
            "Collecting dwave-networkx==0.8.8\n",
            "\u001b[?25l  Downloading https://files.pythonhosted.org/packages/34/51/feeaa00ae0ccfb6a56731d917f998bc9606f0db2a9719b9b4947a206defc/dwave_networkx-0.8.8-py2.py3-none-any.whl (81kB)\n",
            "\u001b[K     |████████████████████████████████| 81kB 8.7MB/s \n",
            "\u001b[?25hCollecting penaltymodel-mip==0.2.3; platform_machine == \"x86_64\" or platform_machine == \"amd64\" or platform_machine == \"AMD64\"\n",
            "  Downloading https://files.pythonhosted.org/packages/7d/f5/fa3cc200983692675fdb07c57d6e28ee0b07a98e7ec0955f4d45ab7c4764/penaltymodel_mip-0.2.3-py3-none-any.whl\n",
            "Collecting penaltymodel-lp==0.1.3\n",
            "  Downloading https://files.pythonhosted.org/packages/e2/86/4c4c4de17c7e45f1958547da6a3fe866b6a6f48bf4785575bf6cc9ab91ca/penaltymodel_lp-0.1.3-py3-none-any.whl\n",
            "Collecting dimod==0.9.10\n",
            "\u001b[?25l  Downloading https://files.pythonhosted.org/packages/66/45/577f476aa2d1c94258f9613aa4f56fe75cf8d7671981629170fa52af864d/dimod-0.9.10-cp36-cp36m-manylinux1_x86_64.whl (6.1MB)\n",
            "\u001b[K     |████████████████████████████████| 6.1MB 15.9MB/s \n",
            "\u001b[?25hCollecting dwave-inspector==0.2.4\n",
            "  Downloading https://files.pythonhosted.org/packages/40/b5/7acfc0c7c4684bee6beeceb59c17c1fdec4562cc2f7731ad6004cb771cc3/dwave_inspector-0.2.4-py3-none-any.whl\n",
            "Collecting dwave-qbsolv==0.3.1\n",
            "\u001b[?25l  Downloading https://files.pythonhosted.org/packages/39/1c/2ccc94f1a3507ab0c0a0bee000b01e1d6eed39bf05cfe3e1bfaf7379446e/dwave_qbsolv-0.3.1-cp36-cp36m-manylinux1_x86_64.whl (205kB)\n",
            "\u001b[K     |████████████████████████████████| 215kB 44.9MB/s \n",
            "\u001b[?25hCollecting dwave-tabu==0.3.0\n",
            "\u001b[?25l  Downloading https://files.pythonhosted.org/packages/f1/b0/bd1bee98246423e9b39bcc71397f82c6d66def17e67d0878e3a0b7c06f59/dwave_tabu-0.3.0-cp36-cp36m-manylinux1_x86_64.whl (788kB)\n",
            "\u001b[K     |████████████████████████████████| 798kB 35.9MB/s \n",
            "\u001b[?25hCollecting dwavebinarycsp==0.1.2\n",
            "  Downloading https://files.pythonhosted.org/packages/e6/f2/8422100bfa1a9cce5c0f3ca8b088a3d1f46582c0085adb2db09837dbc0f1/dwavebinarycsp-0.1.2-py3-none-any.whl\n",
            "Collecting homebase<2.0.0,>=1.0.0\n",
            "  Downloading https://files.pythonhosted.org/packages/50/ad/e0080c35bd177682d5118a95bc2e7c1ac0541394b4ffce5e9554b6a077f9/homebase-1.0.1-py2.py3-none-any.whl\n",
            "Requirement already satisfied: six<2.0.0,>=1.11.0 in /usr/local/lib/python3.6/dist-packages (from penaltymodel-cache==0.4.1->dwave-ocean-sdk->Qsort==0.1.0) (1.15.0)\n",
            "Requirement already satisfied: python-dateutil>=2.7 in /usr/local/lib/python3.6/dist-packages (from dwave-cloud-client==0.8.1->dwave-ocean-sdk->Qsort==0.1.0) (2.8.1)\n",
            "Collecting plucky>=0.4.3\n",
            "  Downloading https://files.pythonhosted.org/packages/d8/70/7b43e7280284bafecb345f4edb3eea7042cf0d089c5d112920eda650fda5/plucky-0.4.3-py2.py3-none-any.whl\n",
            "Requirement already satisfied: click>=7.0 in /usr/local/lib/python3.6/dist-packages (from dwave-cloud-client==0.8.1->dwave-ocean-sdk->Qsort==0.1.0) (7.1.2)\n",
            "Requirement already satisfied: requests[socks]>=2.18 in /usr/local/lib/python3.6/dist-packages (from dwave-cloud-client==0.8.1->dwave-ocean-sdk->Qsort==0.1.0) (2.23.0)\n",
            "Requirement already satisfied: numpy<2.0.0,>=1.16.0 in /usr/local/lib/python3.6/dist-packages (from dwave-neal==0.5.6->dwave-ocean-sdk->Qsort==0.1.0) (1.18.5)\n",
            "Requirement already satisfied: networkx<3.0,>=2.0 in /usr/local/lib/python3.6/dist-packages (from dwave-system==1.2.1->dwave-ocean-sdk->Qsort==0.1.0) (2.5)\n",
            "Collecting fasteners\n",
            "  Downloading https://files.pythonhosted.org/packages/18/bd/55eb2d6397b9c0e263af9d091ebdb756b15756029b3cededf6461481bc63/fasteners-0.15-py2.py3-none-any.whl\n",
            "Requirement already satisfied: scipy in /usr/local/lib/python3.6/dist-packages (from minorminer==0.2.3->dwave-ocean-sdk->Qsort==0.1.0) (1.4.1)\n",
            "Requirement already satisfied: decorator<5.0.0,>=4.1.0 in /usr/local/lib/python3.6/dist-packages (from dwave-networkx==0.8.8->dwave-ocean-sdk->Qsort==0.1.0) (4.4.2)\n",
            "Collecting ortools<8.0.0,>=6.6.4659\n",
            "\u001b[?25l  Downloading https://files.pythonhosted.org/packages/6c/e9/57ee68e41e02b00836dbe61a4f9679c953623168dcca3a84e2cd16a3e9b2/ortools-7.8.7959-cp36-cp36m-manylinux1_x86_64.whl (32.7MB)\n",
            "\u001b[K     |████████████████████████████████| 32.7MB 129kB/s \n",
            "\u001b[?25hRequirement already satisfied: Flask>=1.1.1 in /usr/local/lib/python3.6/dist-packages (from dwave-inspector==0.2.4->dwave-ocean-sdk->Qsort==0.1.0) (1.1.2)\n",
            "Requirement already satisfied: importlib-resources; python_version < \"3.7\" in /usr/local/lib/python3.6/dist-packages (from dwave-inspector==0.2.4->dwave-ocean-sdk->Qsort==0.1.0) (3.3.0)\n",
            "Requirement already satisfied: urllib3!=1.25.0,!=1.25.1,<1.26,>=1.21.1 in /usr/local/lib/python3.6/dist-packages (from requests[socks]>=2.18->dwave-cloud-client==0.8.1->dwave-ocean-sdk->Qsort==0.1.0) (1.24.3)\n",
            "Requirement already satisfied: idna<3,>=2.5 in /usr/local/lib/python3.6/dist-packages (from requests[socks]>=2.18->dwave-cloud-client==0.8.1->dwave-ocean-sdk->Qsort==0.1.0) (2.10)\n",
            "Requirement already satisfied: certifi>=2017.4.17 in /usr/local/lib/python3.6/dist-packages (from requests[socks]>=2.18->dwave-cloud-client==0.8.1->dwave-ocean-sdk->Qsort==0.1.0) (2020.11.8)\n",
            "Requirement already satisfied: chardet<4,>=3.0.2 in /usr/local/lib/python3.6/dist-packages (from requests[socks]>=2.18->dwave-cloud-client==0.8.1->dwave-ocean-sdk->Qsort==0.1.0) (3.0.4)\n",
            "Requirement already satisfied: PySocks!=1.5.7,>=1.5.6; extra == \"socks\" in /usr/local/lib/python3.6/dist-packages (from requests[socks]>=2.18->dwave-cloud-client==0.8.1->dwave-ocean-sdk->Qsort==0.1.0) (1.7.1)\n",
            "Collecting monotonic>=0.1\n",
            "  Downloading https://files.pythonhosted.org/packages/ac/aa/063eca6a416f397bd99552c534c6d11d57f58f2e94c14780f3bbf818c4cf/monotonic-1.5-py2.py3-none-any.whl\n",
            "Requirement already satisfied: protobuf>=3.12.2 in /usr/local/lib/python3.6/dist-packages (from ortools<8.0.0,>=6.6.4659->penaltymodel-mip==0.2.3; platform_machine == \"x86_64\" or platform_machine == \"amd64\" or platform_machine == \"AMD64\"->dwave-ocean-sdk->Qsort==0.1.0) (3.12.4)\n",
            "Requirement already satisfied: Jinja2>=2.10.1 in /usr/local/lib/python3.6/dist-packages (from Flask>=1.1.1->dwave-inspector==0.2.4->dwave-ocean-sdk->Qsort==0.1.0) (2.11.2)\n",
            "Requirement already satisfied: itsdangerous>=0.24 in /usr/local/lib/python3.6/dist-packages (from Flask>=1.1.1->dwave-inspector==0.2.4->dwave-ocean-sdk->Qsort==0.1.0) (1.1.0)\n",
            "Requirement already satisfied: Werkzeug>=0.15 in /usr/local/lib/python3.6/dist-packages (from Flask>=1.1.1->dwave-inspector==0.2.4->dwave-ocean-sdk->Qsort==0.1.0) (1.0.1)\n",
            "Requirement already satisfied: zipp>=0.4; python_version < \"3.8\" in /usr/local/lib/python3.6/dist-packages (from importlib-resources; python_version < \"3.7\"->dwave-inspector==0.2.4->dwave-ocean-sdk->Qsort==0.1.0) (3.4.0)\n",
            "Requirement already satisfied: setuptools in /usr/local/lib/python3.6/dist-packages (from protobuf>=3.12.2->ortools<8.0.0,>=6.6.4659->penaltymodel-mip==0.2.3; platform_machine == \"x86_64\" or platform_machine == \"amd64\" or platform_machine == \"AMD64\"->dwave-ocean-sdk->Qsort==0.1.0) (50.3.2)\n",
            "Requirement already satisfied: MarkupSafe>=0.23 in /usr/local/lib/python3.6/dist-packages (from Jinja2>=2.10.1->Flask>=1.1.1->dwave-inspector==0.2.4->dwave-ocean-sdk->Qsort==0.1.0) (1.1.1)\n",
            "Building wheels for collected packages: Qsort, pyqubo\n",
            "  Building wheel for Qsort (setup.py) ... \u001b[?25l\u001b[?25hdone\n",
            "  Created wheel for Qsort: filename=Qsort-0.1.0-cp36-none-any.whl size=3619 sha256=469044a88e86f0d739a9f324b0246dbbc3e15d48ac7d8945f4a07773019fc886\n",
            "  Stored in directory: /tmp/pip-ephem-wheel-cache-dgkyoy5b/wheels/bd/00/48/149c3fddbf6193fb6ee6c692ecd7f8f7b7a7e4292ffa5f0d1b\n",
            "  Building wheel for pyqubo (setup.py) ... \u001b[?25l\u001b[?25hdone\n",
            "  Created wheel for pyqubo: filename=pyqubo-0.4.0-cp36-none-any.whl size=40712 sha256=348633186ac2dbb5908e554682953603c1b7214e06c83094b84873ef864708d4\n",
            "  Stored in directory: /root/.cache/pip/wheels/77/b7/47/b989889699f788f4fecdc534bfddbb16df9a9a51f4e431b04d\n",
            "Successfully built Qsort pyqubo\n",
            "Installing collected packages: homebase, dimod, penaltymodel, penaltymodel-cache, plucky, dwave-cloud-client, dwave-neal, dwave-networkx, monotonic, fasteners, minorminer, dwave-tabu, dwave-system, pyqubo, dwave-greedy, dwave-hybrid, ortools, penaltymodel-mip, penaltymodel-lp, dwave-inspector, dwave-qbsolv, dwavebinarycsp, dwave-ocean-sdk, Qsort\n",
            "Successfully installed Qsort-0.1.0 dimod-0.9.10 dwave-cloud-client-0.8.1 dwave-greedy-0.1.1 dwave-hybrid-0.6.0 dwave-inspector-0.2.4 dwave-neal-0.5.6 dwave-networkx-0.8.8 dwave-ocean-sdk-3.1.1 dwave-qbsolv-0.3.1 dwave-system-1.2.1 dwave-tabu-0.3.0 dwavebinarycsp-0.1.2 fasteners-0.15 homebase-1.0.1 minorminer-0.2.3 monotonic-1.5 ortools-7.8.7959 penaltymodel-0.16.3 penaltymodel-cache-0.4.1 penaltymodel-lp-0.1.3 penaltymodel-mip-0.2.3 plucky-0.4.3 pyqubo-0.4.0\n"
          ],
          "name": "stdout"
        }
      ]
    },
    {
      "cell_type": "code",
      "metadata": {
        "colab": {
          "base_uri": "https://localhost:8080/"
        },
        "id": "x2DxRFCEJUrj",
        "outputId": "3abfb055-78a4-4f90-a324-105113436cbf"
      },
      "source": [
        "# 問題設定\n",
        "import random\n",
        "num_numbers = 4\n",
        "min_number = 1\n",
        "max_number = 100\n",
        "numbers = [random.randint(min_number, max_number) for _ in range(num_numbers)]\n",
        "\n",
        "print(\"index : numbers\")\n",
        "for i, x in enumerate(numbers):\n",
        "    print(i, \"      : \", x)"
      ],
      "execution_count": 2,
      "outputs": [
        {
          "output_type": "stream",
          "text": [
            "index : numbers\n",
            "0       :  43\n",
            "1       :  51\n",
            "2       :  19\n",
            "3       :  7\n"
          ],
          "name": "stdout"
        }
      ]
    },
    {
      "cell_type": "code",
      "metadata": {
        "colab": {
          "base_uri": "https://localhost:8080/"
        },
        "id": "I0x_Qf9sGFTv",
        "outputId": "c9e6c2f9-ce6a-4caa-a5ae-38e5f42ce471"
      },
      "source": [
        "# 差分行列を生成\n",
        "diffs = {\n",
        "    (v, w) : abs(numbers[w] - numbers[v]) \n",
        "    for v in range(num_numbers) \n",
        "    for w in range(v+1, num_numbers)\n",
        "}\n",
        "\n",
        "print(\"pair         : difference\")\n",
        "for pair, diff in diffs.items():\n",
        "    print(pair, \"      : \", diff)"
      ],
      "execution_count": 3,
      "outputs": [
        {
          "output_type": "stream",
          "text": [
            "pair         : difference\n",
            "(0, 1)       :  8\n",
            "(0, 2)       :  24\n",
            "(0, 3)       :  36\n",
            "(1, 2)       :  32\n",
            "(1, 3)       :  44\n",
            "(2, 3)       :  12\n"
          ],
          "name": "stdout"
        }
      ]
    },
    {
      "cell_type": "code",
      "metadata": {
        "colab": {
          "base_uri": "https://localhost:8080/"
        },
        "id": "fxRMnWLyIJr1",
        "outputId": "4cedc934-99a2-49e4-856c-38e6ab1f7c21"
      },
      "source": [
        "# 隣接行列を生成\n",
        "neighbors = [\n",
        "    (i, j)\n",
        "    for i in range(num_numbers) \n",
        "    for j in range(num_numbers)\n",
        "    if abs(j-i) == 1\n",
        "]\n",
        "\n",
        "print(\"neighbor\")\n",
        "for pair in neighbors:\n",
        "    print(pair)"
      ],
      "execution_count": 4,
      "outputs": [
        {
          "output_type": "stream",
          "text": [
            "neighbor\n",
            "(0, 1)\n",
            "(1, 0)\n",
            "(1, 2)\n",
            "(2, 1)\n",
            "(2, 3)\n",
            "(3, 2)\n"
          ],
          "name": "stdout"
        }
      ]
    },
    {
      "cell_type": "code",
      "metadata": {
        "colab": {
          "base_uri": "https://localhost:8080/"
        },
        "id": "TnY7IUqUqIK5",
        "outputId": "040b79e4-98b0-4930-ef0f-c4a9d1ee5531"
      },
      "source": [
        "# ラグランジュ未定乗数の設定\n",
        "max_number = max(numbers)\n",
        "lam = max_number/2\n",
        "\n",
        "print(max_number)\n",
        "print(lam)"
      ],
      "execution_count": 5,
      "outputs": [
        {
          "output_type": "stream",
          "text": [
            "51\n",
            "25.5\n"
          ],
          "name": "stdout"
        }
      ]
    },
    {
      "cell_type": "code",
      "metadata": {
        "id": "j3Nwd0MJHmbW"
      },
      "source": [
        "# QUBOを生成\n",
        "qubo = {\n",
        "    ((v, i), (w, j)) : \n",
        "        diffs[(v, w)] if (i, j) in neighbors and (v, w) in diffs.keys() else\n",
        "        -2 * lam if v == w and i == j else\n",
        "        2 * lam if v == w and i < j else\n",
        "        2 * lam if i == j else\n",
        "        0\n",
        "    for v in range(num_numbers)\n",
        "    for w in range(v, num_numbers)\n",
        "    for i in range(num_numbers)\n",
        "    for j in range(num_numbers)\n",
        "}\n",
        "\n",
        "qubo = {k : v for k, v in qubo.items() if not v == 0}"
      ],
      "execution_count": 6,
      "outputs": []
    },
    {
      "cell_type": "code",
      "metadata": {
        "id": "WZn8cZE3EVk8"
      },
      "source": [
        "# ひとまず，SA（シミュレーティド・アニーリング）で試してみる\n",
        "import neal\n",
        "sampler = neal.SimulatedAnnealingSampler()"
      ],
      "execution_count": 7,
      "outputs": []
    },
    {
      "cell_type": "code",
      "metadata": {
        "id": "Vcm7g5L4gnYA"
      },
      "source": [
        "# QUBOを渡して，SAを10回実行\n",
        "response = sampler.sample_qubo(qubo, num_reads=10)"
      ],
      "execution_count": 8,
      "outputs": []
    },
    {
      "cell_type": "code",
      "metadata": {
        "colab": {
          "base_uri": "https://localhost:8080/"
        },
        "id": "c7PvOygplKPp",
        "outputId": "44ac6625-2372-4d50-d7b6-0768b8eb4b0a"
      },
      "source": [
        "# 得られた回のうち，エネルギー最小のものをsolutionsとして取得\n",
        "solutions = [state.tolist() for i, state in enumerate(response.record['sample']) if response.record['energy'][i] == min(response.record['energy'])]\n",
        "\n",
        "for sol in solutions:\n",
        "    print(sol)"
      ],
      "execution_count": 9,
      "outputs": [
        {
          "output_type": "stream",
          "text": [
            "[0, 1, 0, 0, 1, 0, 0, 0, 0, 0, 1, 0, 0, 0, 0, 1]\n",
            "[0, 1, 0, 0, 1, 0, 0, 0, 0, 0, 1, 0, 0, 0, 0, 1]\n",
            "[0, 1, 0, 0, 1, 0, 0, 0, 0, 0, 1, 0, 0, 0, 0, 1]\n",
            "[0, 0, 1, 0, 0, 0, 0, 1, 0, 1, 0, 0, 1, 0, 0, 0]\n",
            "[0, 1, 0, 0, 1, 0, 0, 0, 0, 0, 1, 0, 0, 0, 0, 1]\n",
            "[0, 1, 0, 0, 1, 0, 0, 0, 0, 0, 1, 0, 0, 0, 0, 1]\n",
            "[0, 0, 1, 0, 0, 0, 0, 1, 0, 1, 0, 0, 1, 0, 0, 0]\n",
            "[0, 1, 0, 0, 1, 0, 0, 0, 0, 0, 1, 0, 0, 0, 0, 1]\n",
            "[0, 1, 0, 0, 1, 0, 0, 0, 0, 0, 1, 0, 0, 0, 0, 1]\n"
          ],
          "name": "stdout"
        }
      ]
    },
    {
      "cell_type": "code",
      "metadata": {
        "colab": {
          "base_uri": "https://localhost:8080/"
        },
        "id": "97ZYktp5aZ5d",
        "outputId": "abd967bd-fd90-427a-c400-98cff81b44bd"
      },
      "source": [
        "selected_sols = []\n",
        "for sol in solutions:\n",
        "    if not sol in selected_sols:\n",
        "        selected_sols.append(sol)\n",
        "\n",
        "for sol in selected_sols:\n",
        "    print(sol)"
      ],
      "execution_count": 10,
      "outputs": [
        {
          "output_type": "stream",
          "text": [
            "[0, 1, 0, 0, 1, 0, 0, 0, 0, 0, 1, 0, 0, 0, 0, 1]\n",
            "[0, 0, 1, 0, 0, 0, 0, 1, 0, 1, 0, 0, 1, 0, 0, 0]\n"
          ],
          "name": "stdout"
        }
      ]
    },
    {
      "cell_type": "markdown",
      "metadata": {
        "id": "6OR_ZmBZsDwY"
      },
      "source": [
        "# How to Use Qsort"
      ]
    },
    {
      "cell_type": "code",
      "metadata": {
        "colab": {
          "base_uri": "https://localhost:8080/"
        },
        "id": "3lmuyPlq_8eM",
        "outputId": "04504db0-9db1-4c28-95f0-9f1d9d26fe48"
      },
      "source": [
        "from Qsort import Qsort\n",
        "qsort = Qsort()\n",
        "qsort.set_random_numbers()"
      ],
      "execution_count": 11,
      "outputs": [
        {
          "output_type": "stream",
          "text": [
            "index : numbers\n",
            "0       :  59\n",
            "1       :  71\n",
            "2       :  13\n",
            "3       :  70\n"
          ],
          "name": "stdout"
        }
      ]
    },
    {
      "cell_type": "code",
      "metadata": {
        "colab": {
          "base_uri": "https://localhost:8080/"
        },
        "id": "Ihbo2_-5xP7k",
        "outputId": "ce00bc66-316e-4f69-8d59-09bbf345dd83"
      },
      "source": [
        "sorted_numbers = qsort.SASolver()\n",
        "print(sorted_numbers)"
      ],
      "execution_count": 12,
      "outputs": [
        {
          "output_type": "stream",
          "text": [
            "[71, 70, 59, 13]\n"
          ],
          "name": "stdout"
        }
      ]
    },
    {
      "cell_type": "code",
      "metadata": {
        "colab": {
          "base_uri": "https://localhost:8080/"
        },
        "id": "2iTqmvh1x-5-",
        "outputId": "206b10c6-f92a-45df-8639-5e50ca325a47"
      },
      "source": [
        "sorted_numbers = qsort.QASolver(\n",
        "    token = \"Your API Token\",\n",
        "    solver = \"Advantage_system1.1\",\n",
        "    endpoint = \"https://cloud.dwavesys.com/sapi/\"\n",
        ")\n",
        "print(sorted_numbers)"
      ],
      "execution_count": 14,
      "outputs": [
        {
          "output_type": "stream",
          "text": [
            "[71, 70, 59, 13]\n"
          ],
          "name": "stdout"
        }
      ]
    },
    {
      "cell_type": "code",
      "metadata": {
        "id": "Ze6qeZysyTjJ"
      },
      "source": [
        ""
      ],
      "execution_count": null,
      "outputs": []
    }
  ]
}